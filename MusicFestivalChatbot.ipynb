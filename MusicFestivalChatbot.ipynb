{
  "nbformat": 4,
  "nbformat_minor": 0,
  "metadata": {
    "colab": {
      "provenance": [],
      "gpuType": "T4",
      "authorship_tag": "ABX9TyOALp19BThcoN3kwg3RJg0V",
      "include_colab_link": true
    },
    "kernelspec": {
      "name": "python3",
      "display_name": "Python 3"
    },
    "language_info": {
      "name": "python"
    },
    "accelerator": "GPU"
  },
  "cells": [
    {
      "cell_type": "markdown",
      "metadata": {
        "id": "view-in-github",
        "colab_type": "text"
      },
      "source": [
        "<a href=\"https://colab.research.google.com/github/pemagrg1/chatbot-using-pre-trained-model/blob/main/MusicFestivalChatbot.ipynb\" target=\"_parent\"><img src=\"https://colab.research.google.com/assets/colab-badge.svg\" alt=\"Open In Colab\"/></a>"
      ]
    },
    {
      "cell_type": "code",
      "execution_count": 1,
      "metadata": {
        "id": "c5ZAdCAmq8Qi",
        "outputId": "579c1c9a-1254-4d0f-f954-cde3acdf8785",
        "colab": {
          "base_uri": "https://localhost:8080/"
        }
      },
      "outputs": [
        {
          "output_type": "stream",
          "name": "stdout",
          "text": [
            "Cloning into 'GODEL'...\n",
            "remote: Enumerating objects: 282, done.\u001b[K\n",
            "remote: Counting objects: 100% (87/87), done.\u001b[K\n",
            "remote: Compressing objects: 100% (39/39), done.\u001b[K\n",
            "remote: Total 282 (delta 64), reused 50 (delta 48), pack-reused 195\u001b[K\n",
            "Receiving objects: 100% (282/282), 51.03 MiB | 24.85 MiB/s, done.\n",
            "Resolving deltas: 100% (98/98), done.\n"
          ]
        }
      ],
      "source": [
        "! git clone https://github.com/microsoft/GODEL.git"
      ]
    },
    {
      "cell_type": "code",
      "source": [
        "import os\n",
        "os.chdir('/content/GODEL')\n",
        "!pwd"
      ],
      "metadata": {
        "id": "1XFTa5JGr54z",
        "outputId": "a2bff864-c316-4610-c7ab-555ac0ca4e59",
        "colab": {
          "base_uri": "https://localhost:8080/"
        }
      },
      "execution_count": 2,
      "outputs": [
        {
          "output_type": "stream",
          "name": "stdout",
          "text": [
            "/content/GODEL\n"
          ]
        }
      ]
    },
    {
      "cell_type": "markdown",
      "source": [
        "# setting up the env"
      ],
      "metadata": {
        "id": "7H7qEVmyr94h"
      }
    },
    {
      "cell_type": "code",
      "source": [
        "! pip install -r requirements.txt"
      ],
      "metadata": {
        "id": "F-1ikY_0rzFz"
      },
      "execution_count": null,
      "outputs": []
    },
    {
      "cell_type": "code",
      "source": [],
      "metadata": {
        "id": "UA20DSz4r7ZC"
      },
      "execution_count": null,
      "outputs": []
    },
    {
      "cell_type": "markdown",
      "source": [
        "# Download the pretrained model"
      ],
      "metadata": {
        "id": "kqhqwV4YsAwS"
      }
    },
    {
      "cell_type": "code",
      "source": [
        "! git lfs install\n",
        "! git clone https://huggingface.co/microsoft/GODEL-v1_1-base-seq2seq\n"
      ],
      "metadata": {
        "id": "j0G3MmafsErO",
        "outputId": "cf85d6ad-2a0f-4002-c656-abb1684b9e1d",
        "colab": {
          "base_uri": "https://localhost:8080/"
        }
      },
      "execution_count": 4,
      "outputs": [
        {
          "output_type": "stream",
          "name": "stdout",
          "text": [
            "Updated git hooks.\n",
            "Git LFS initialized.\n",
            "Cloning into 'GODEL-v1_1-base-seq2seq'...\n",
            "remote: Enumerating objects: 23, done.\u001b[K\n",
            "remote: Total 23 (delta 0), reused 0 (delta 0), pack-reused 23\u001b[K\n",
            "Unpacking objects: 100% (23/23), 607.93 KiB | 3.22 MiB/s, done.\n"
          ]
        }
      ]
    },
    {
      "cell_type": "code",
      "source": [],
      "metadata": {
        "id": "MO0_7Us3sFkg"
      },
      "execution_count": null,
      "outputs": []
    },
    {
      "cell_type": "markdown",
      "source": [
        "# FINETUNING"
      ],
      "metadata": {
        "id": "yhMAUsVXsN54"
      }
    },
    {
      "cell_type": "code",
      "source": [
        "import gc\n",
        "gc.collect()\n",
        "\n",
        "import torch\n",
        "torch.cuda.empty_cache()\n",
        "from datetime import datetime\n",
        "start_time = datetime.now()\n",
        "print(\"STart TIme:\",start_time)\n",
        "\n",
        "\n",
        "! python /content/GODEL/GODEL/train.py --model_name_or_path /content/GODEL/GODEL-v1_1-base-seq2seq \\\n",
        "\t--dataset_name /content/GODEL/examples/dstc9/dstc9_dataset.py \\\n",
        "\t--output_dir /content/GODEL/test_output \\\n",
        "\t--per_device_train_batch_size=4 \\\n",
        "\t--per_device_eval_batch_size=4 \\\n",
        "\t--max_target_length 512 \\\n",
        "\t--max_length 512 \\\n",
        "\t--num_train_epochs 50 \\\n",
        "\t--save_steps 10000 \\\n",
        "\t--num_beams 5 \\\n",
        "\t--exp_name test1 --preprocessing_num_workers 24\n",
        "\n",
        "end_time = datetime.now()\n",
        "print('Duration: {}'.format(end_time - start_time))"
      ],
      "metadata": {
        "id": "eWhTEGIJsPDR"
      },
      "execution_count": null,
      "outputs": []
    }
  ]
}