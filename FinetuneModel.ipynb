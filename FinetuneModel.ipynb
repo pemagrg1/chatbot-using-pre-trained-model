{
  "cells": [
    {
      "cell_type": "markdown",
      "metadata": {},
      "source": [
        "# Clone GODEL Repository"
      ]
    },
    {
      "cell_type": "code",
      "execution_count": null,
      "metadata": {
        "colab": {
          "base_uri": "https://localhost:8080/"
        },
        "id": "c5ZAdCAmq8Qi",
        "outputId": "15b91bd3-f56e-41d0-ae00-af34a3d379e7"
      },
      "outputs": [
        {
          "name": "stdout",
          "output_type": "stream",
          "text": [
            "Cloning into 'GODEL'...\n",
            "remote: Enumerating objects: 282, done.\u001b[K\n",
            "remote: Counting objects: 100% (82/82), done.\u001b[K\n",
            "remote: Compressing objects: 100% (36/36), done.\u001b[K\n",
            "remote: Total 282 (delta 62), reused 48 (delta 46), pack-reused 200\u001b[K\n",
            "Receiving objects: 100% (282/282), 51.03 MiB | 24.63 MiB/s, done.\n",
            "Resolving deltas: 100% (99/99), done.\n"
          ]
        }
      ],
      "source": [
        "! git clone https://github.com/microsoft/GODEL.git"
      ]
    },
    {
      "cell_type": "markdown",
      "metadata": {
        "id": "7H7qEVmyr94h"
      },
      "source": [
        "# setting up the env"
      ]
    },
    {
      "cell_type": "code",
      "execution_count": null,
      "metadata": {
        "id": "F-1ikY_0rzFz"
      },
      "outputs": [],
      "source": [
        "! pip install -r GODEL/requirements.txt"
      ]
    },
    {
      "cell_type": "markdown",
      "metadata": {
        "id": "kqhqwV4YsAwS"
      },
      "source": [
        "# Download the pretrained model"
      ]
    },
    {
      "cell_type": "code",
      "execution_count": null,
      "metadata": {
        "colab": {
          "base_uri": "https://localhost:8080/"
        },
        "id": "j0G3MmafsErO",
        "outputId": "d22d1b44-2bc7-461a-f085-fae9a547b420"
      },
      "outputs": [
        {
          "name": "stdout",
          "output_type": "stream",
          "text": [
            "Updated git hooks.\n",
            "Git LFS initialized.\n",
            "Cloning into 'GODEL-v1_1-base-seq2seq'...\n",
            "remote: Enumerating objects: 23, done.\u001b[K\n",
            "remote: Total 23 (delta 0), reused 0 (delta 0), pack-reused 23\u001b[K\n",
            "Unpacking objects: 100% (23/23), 607.93 KiB | 4.31 MiB/s, done.\n"
          ]
        }
      ],
      "source": [
        "! git lfs install\n",
        "! git clone https://huggingface.co/microsoft/GODEL-v1_1-base-seq2seq"
      ]
    },
    {
      "cell_type": "code",
      "execution_count": null,
      "metadata": {},
      "outputs": [],
      "source": [
        "import os\n",
        "os.chdir('chatbot-using-pre-trained-model/GODEL/GODEL')\n",
        "!pwd"
      ]
    },
    {
      "cell_type": "markdown",
      "metadata": {
        "id": "yhMAUsVXsN54"
      },
      "source": [
        "# FINETUNING"
      ]
    },
    {
      "cell_type": "markdown",
      "metadata": {},
      "source": [
        "### change paths in SMF/SMF_dataset.py\n",
        "train_path = 'SMF/json_data/new_train_data.jsonl' <br>\n",
        "validation_path = 'SMF/json_data/new_test_data.jsonl' <br>\n",
        "test_path = 'SMF/json_data/new_test_data.jsonl'<br>"
      ]
    },
    {
      "cell_type": "code",
      "execution_count": null,
      "metadata": {
        "colab": {
          "base_uri": "https://localhost:8080/"
        },
        "id": "eWhTEGIJsPDR",
        "outputId": "c8f73bff-40db-4a3e-cabd-b336e9c029b1"
      },
      "outputs": [],
      "source": [
        "import gc\n",
        "gc.collect()\n",
        "\n",
        "import torch\n",
        "torch.cuda.empty_cache()\n",
        "from datetime import datetime\n",
        "start_time = datetime.now()\n",
        "print(\"STart TIme:\",start_time)\n",
        "\n",
        "\n",
        "! python train.py --model_name_or_path /chatbot-using-pre-trained-model/GODEL-v1_1-base-seq2seq \\\n",
        "\t--dataset_name /chatbot-using-pre-trained-model/SMF/SMF_dataset.py \\\n",
        "\t--output_dir /chatbot-using-pre-trained-model/SMF/ckpt \\\n",
        "\t--per_device_train_batch_size=2 \\\n",
        "\t--per_device_eval_batch_size=4 \\\n",
        "\t--max_target_length 128 \\\n",
        "\t--max_length 256 \\\n",
        "\t--num_train_epochs 50 \\\n",
        "\t--save_steps 10000 \\\n",
        "\t--num_beams 5 \\\n",
        "\t--exp_name wow-test \\\n",
        "\t--preprocessing_num_workers 24 \\\n",
        "\t--save_every_checkpoint \n",
        "\n",
        "\n",
        "end_time = datetime.now()\n",
        "print('Duration: {}'.format(end_time - start_time))"
      ]
    },
    {
      "cell_type": "markdown",
      "metadata": {},
      "source": []
    },
    {
      "cell_type": "code",
      "execution_count": null,
      "metadata": {
        "id": "tCt4zpIAxpEi"
      },
      "outputs": [],
      "source": []
    }
  ],
  "metadata": {
    "accelerator": "GPU",
    "colab": {
      "gpuType": "T4",
      "provenance": []
    },
    "kernelspec": {
      "display_name": "Python 3",
      "name": "python3"
    },
    "language_info": {
      "name": "python"
    }
  },
  "nbformat": 4,
  "nbformat_minor": 0
}
